{
 "cells": [
  {
   "cell_type": "markdown",
   "id": "title-cell",
   "metadata": {},
   "source": [
    "# LangChain + xpander.ai Integration Example\n",
    "\n",
    "This notebook demonstrates how to integrate **LangChain** with **xpander.ai** to create powerful AI agents with access to pre-built tools and services.\n",
    "\n",
    "🚀 **Quick Start Template**: [Import this template](https://app.xpander.ai/templates/13de363d-c947-41d9-a25a-3e94d2fad90f) directly into xpander.ai\n",
    "\n",
    "## Prerequisites\n",
    "\n",
    "- **xpander.ai account required**: [Sign up here](https://app.xpander.ai)\n",
    "- OpenAI API key\n",
    "- xpander.ai API credentials\n",
    "\n",
    "## What You'll Learn\n",
    "\n",
    "- How to set up LangChain with xpander.ai tools\n",
    "- How to create a ReAct agent using LangGraph\n",
    "- How to leverage xpander's pre-built tool ecosystem\n"
   ]
  },
  {
   "cell_type": "markdown",
   "id": "setup-section",
   "metadata": {},
   "source": [
    "## 1. Installation & Setup\n",
    "\n",
    "Install the required dependencies:"
   ]
  },
  {
   "cell_type": "code",
   "execution_count": null,
   "id": "install-deps",
   "metadata": {},
   "outputs": [],
   "source": [
    "# Install dependencies\n",
    "!pip install \"xpander-sdk\" \"langchain[openai]\" langgraph python-dotenv"
   ]
  },
  {
   "cell_type": "markdown",
   "id": "env-section",
   "metadata": {},
   "source": [
    "## 2. Environment Configuration\n",
    "\n",
    "Load environment variables from `.env` file:"
   ]
  },
  {
   "cell_type": "code",
   "execution_count": null,
   "id": "load-env",
   "metadata": {},
   "outputs": [],
   "source": [
    "from dotenv import load_dotenv\n",
    "\n",
    "# Load environment variables\n",
    "load_dotenv()"
   ]
  },
  {
   "cell_type": "markdown",
   "id": "env-validation",
   "metadata": {},
   "source": [
    "Validate that all required environment variables are set:"
   ]
  },
  {
   "cell_type": "code",
   "execution_count": null,
   "id": "validate-env",
   "metadata": {},
   "outputs": [],
   "source": [
    "from os import getenv\n",
    "\n",
    "# Required environment variables\n",
    "required_env_vars = [\n",
    "    \"OPENAI_API_KEY\",      # Your OpenAI API key\n",
    "    \"XPANDER_API_KEY\",     # Your xpander.ai API key\n",
    "    \"XPANDER_ORGANIZATION_ID\",  # Your xpander.ai organization ID\n",
    "    \"XPANDER_AGENT_ID\"     # Your xpander.ai agent ID\n",
    "]\n",
    "\n",
    "# Validate environment variables\n",
    "for evar in required_env_vars:\n",
    "    if not getenv(evar, None):\n",
    "        raise KeyError(f\"Missing required environment variable: {evar}\")\n",
    "        \n",
    "print(\"✅ All required environment variables are set!\")"
   ]
  },
  {
   "cell_type": "markdown",
   "id": "agent-setup",
   "metadata": {},
   "source": [
    "## 3. Initialize xpander.ai Agent\n",
    "\n",
    "Load the xpander agent configuration with pre-built tools:"
   ]
  },
  {
   "cell_type": "code",
   "execution_count": null,
   "id": "init-xpander",
   "metadata": {},
   "outputs": [],
   "source": [
    "from os import getenv\n",
    "from xpander_sdk import Agents\n",
    "\n",
    "# Initialize xpander agent\n",
    "xpander_agent = Agents().get(agent_id=getenv(\"XPANDER_AGENT_ID\"))\n",
    "\n",
    "print(f\"📦 Loaded xpander agent with {len(xpander_agent.tools.functions)} tools\")\n",
    "print(f\"🤖 Using model: {xpander_agent.model_name}\")"
   ]
  },
  {
   "cell_type": "markdown",
   "id": "langchain-setup",
   "metadata": {},
   "source": [
    "## 4. Create LangChain ReAct Agent\n",
    "\n",
    "Set up a LangChain agent using LangGraph with xpander.ai tools:"
   ]
  },
  {
   "cell_type": "code",
   "execution_count": null,
   "id": "create-agent",
   "metadata": {},
   "outputs": [],
   "source": [
    "from langchain_openai import ChatOpenAI\n",
    "from langgraph.prebuilt import create_react_agent\n",
    "from langchain_core.messages import SystemMessage\n",
    "\n",
    "# Initialize the language model\n",
    "llm = ChatOpenAI(model=xpander_agent.model_name, temperature=0)\n",
    "\n",
    "# Extract system prompt from xpander agent instructions\n",
    "def create_system_prompt(instructions):\n",
    "    \"\"\"Convert xpander agent instructions to system prompt\"\"\"\n",
    "    parts = []\n",
    "    \n",
    "    if hasattr(instructions, 'general') and instructions.general:\n",
    "        parts.append(f\"System: {instructions.general}\")\n",
    "    \n",
    "    if hasattr(instructions, 'goal_str') and instructions.goal_str:\n",
    "        parts.append(f\"Goals:\\n{instructions.goal_str}\")\n",
    "    \n",
    "    if hasattr(instructions, 'instructions') and instructions.instructions:\n",
    "        instr_list = \"\\n\".join([f\"- {instr}\" for instr in instructions.instructions])\n",
    "        parts.append(f\"Instructions:\\n{instr_list}\")\n",
    "    \n",
    "    return \"\\n\\n\".join(parts)\n",
    "\n",
    "# Create system prompt from xpander agent\n",
    "system_prompt = create_system_prompt(xpander_agent.instructions)\n",
    "print(f\"📋 System Prompt:\\n{system_prompt}\\n\")\n",
    "\n",
    "# Create a ReAct agent with xpander tools and system prompt\n",
    "agent = create_react_agent(\n",
    "    llm, \n",
    "    xpander_agent.tools.functions\n",
    ")\n",
    "\n",
    "print(f\"🚀 LangChain ReAct agent created with {len(xpander_agent.tools.functions)} xpander.ai tools and system instructions!\")"
   ]
  },
  {
   "cell_type": "markdown",
   "id": "demo-section",
   "metadata": {},
   "source": [
    "## 5. Demo: Agent in Action\n",
    "\n",
    "Let's test the agent with a sample query to demonstrate the tool usage:"
   ]
  },
  {
   "cell_type": "code",
   "execution_count": null,
   "id": "demo-agent",
   "metadata": {},
   "outputs": [],
   "source": [
    "# Demo: Test the agent with a sample query\n",
    "prompt = \"search for information about xpander.ai\"\n",
    "\n",
    "print(f\"📋 User Query: {prompt}\")\n",
    "print(\"\\n🚀 Agent Processing...\\n\")\n",
    "\n",
    "# Stream the agent's response\n",
    "for chunk in agent.stream({\"messages\": [(\"system\", system_prompt),(\"user\", prompt)]}):\n",
    "    # Extract the final message content\n",
    "    if \"agent\" in chunk and chunk[\"agent\"].get(\"messages\"):\n",
    "        messages = chunk[\"agent\"][\"messages\"]\n",
    "        for message in messages:\n",
    "            if hasattr(message, 'content') and message.content:\n",
    "                print(f\"🤖 Agent: {message.content}\")\n"
   ]
  },
  {
   "cell_type": "markdown",
   "id": "advanced-features",
   "metadata": {},
   "source": [
    "## 6. Advanced Features\n",
    "\n",
    "This example demonstrates a LangChain agent with access to **xpander.ai tools**:\n",
    "\n",
    "- **🔍 Tavily Search**: Advanced web search with configurable output schema filtering\n",
    "- **📧 Send Email**: Email sending capabilities\n",
    "\n",
    "### Tool Output Filtering\n",
    "\n",
    "xpander.ai provides advanced [output schema filtering](https://docs.xpander.ai/user-guide/backend-configuration/connectors#tool-scheme-advanced-tab) for tools, allowing you to:\n",
    "\n",
    "- Reduce token usage by filtering unnecessary data\n",
    "- Remove personally identifiable information (PII)\n",
    "- Focus the AI model on relevant response parts\n",
    "- Prevent exposure of sensitive data\n",
    "\n",
    "### Tool Dependencies\n",
    "\n",
    "You can configure tool dependencies in the xpander.ai platform to ensure proper execution order."
   ]
  },
  {
   "cell_type": "markdown",
   "id": "next-steps",
   "metadata": {},
   "source": [
    "## 7. Next Steps\n",
    "\n",
    "Ready to build your own LangChain + xpander.ai integration? Here's what to do next:\n",
    "\n",
    "1. **🚀 Import Template**: [Use this template](https://app.xpander.ai/templates/13de363d-c947-41d9-a25a-3e94d2fad90f) as a starting point\n",
    "2. **🔧 Customize Tools**: Add more tools from xpander.ai's library in your agent configuration\n",
    "3. **⚙️ Configure Filtering**: Set up output schema filtering for your tools\n",
    "4. **📜 Read the Docs**: Learn more at [docs.xpander.ai](https://docs.xpander.ai)\n",
    "5. **💬 Join Community**: Connect with other builders on [Discord](https://discord.gg/CUcp4WWh5g)\n",
    "\n",
    "---\n",
    "\n",
    "**Happy building! 🎆**"
   ]
  }
 ],
 "metadata": {
  "kernelspec": {
   "display_name": ".venv",
   "language": "python",
   "name": "python3"
  },
  "language_info": {
   "codemirror_mode": {
    "name": "ipython",
    "version": 3
   },
   "file_extension": ".py",
   "mimetype": "text/x-python",
   "name": "python",
   "nbconvert_exporter": "python",
   "pygments_lexer": "ipython3",
   "version": "3.13.3"
  }
 },
 "nbformat": 4,
 "nbformat_minor": 5
}
