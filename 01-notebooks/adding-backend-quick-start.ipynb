{
 "cells": [
  {
   "cell_type": "markdown",
   "metadata": {},
   "source": [
    "# Adding Backend Quick Start\n",
    "\n",
    "This notebook shows the complete flow from creating an agent to adding backend"
   ]
  },
  {
   "cell_type": "markdown",
   "metadata": {},
   "source": [
    "## Step 1: Create Agent"
   ]
  },
  {
   "cell_type": "code",
   "execution_count": null,
   "metadata": {},
   "outputs": [],
   "source": [
    "# Create a new agent\n",
    "!xpander agent new --name \"notebook-agent\" --framework \"agno\""
   ]
  },
  {
   "cell_type": "markdown",
   "metadata": {},
   "source": [
    "## Step 2: Test Agent with CLI\n",
    "\n",
    "Now let's test our agent using the CLI invoke command:"
   ]
  },
  {
   "cell_type": "markdown",
   "metadata": {},
   "source": [
    "# Test the agent with CLI\n",
    "!xpander agent invoke --agent-name notebook-agent \"Hello! What can you do?\""
   ]
  },
  {
   "cell_type": "code",
   "execution_count": null,
   "metadata": {},
   "outputs": [],
   "source": [
    "# Test a few more messages\n",
    "!xpander agent invoke notebook-agent \"Tell me about yourself\"\n",
    "\n",
    "!xpander agent invoke notebook-agent \"What's the weather like today?\""
   ]
  },
  {
   "cell_type": "code",
   "execution_count": null,
   "metadata": {},
   "outputs": [],
   "source": [
    "# Install SDK dependencies\n",
    "\n",
    "%pip install \"xpander-sdk[agno]>2\" --force-reinstall --no-cache\n",
    "\n",
    "print(\"✅ Agent code and dependencies ready!\")"
   ]
  },
  {
   "cell_type": "markdown",
   "metadata": {},
   "source": [
    "## Basic Agent - Hello World"
   ]
  },
  {
   "cell_type": "code",
   "execution_count": null,
   "metadata": {},
   "outputs": [
    {
     "name": "stdout",
     "output_type": "stream",
     "text": [
      "✅ Environment variables set successfully!\n",
      "Agent ID: 729c48f0-c165-4606-b6b6-ec3db1a790a0\n",
      "API Key: fVyyvSpEMEyONluuzJRt...\n"
     ]
    }
   ],
   "source": [
    "# Option 1: Load from .env file (if it exists)\n",
    "import os\n",
    "\n",
    "# Replace with your Agent ID\n",
    "os.environ['XPANDER_AGENT_ID'] = \"your-agent-id\"\n",
    "# Replace with your API Key\n",
    "os.environ['XPANDER_API_KEY'] = \"your-key\"\n",
    "\n",
    "# Verify environment variables are set\n",
    "agent_id = os.getenv('XPANDER_AGENT_ID')\n",
    "api_key = os.getenv('XPANDER_API_KEY')\n",
    "\n",
    "if agent_id and api_key:\n",
    "    print(\"✅ Environment variables set successfully!\")\n",
    "else:\n",
    "    print(\"❌ Environment variables not set properly.\")"
   ]
  },
  {
   "cell_type": "markdown",
   "metadata": {},
   "source": [
    "## Step 5: Basic Agent with SDK - Hello World"
   ]
  },
  {
   "cell_type": "code",
   "execution_count": null,
   "metadata": {},
   "outputs": [
    {
     "name": "stdout",
     "output_type": "stream",
     "text": [
      "RunResponse(content='I am an AI assistant designed to help you with information, answer questions, provide explanations, and assist with a variety of tasks. My role is to support you by offering accurate, up-to-date, and helpful responses based on your needs. If you have a specific goal or task in mind, just let me know how I can assist!', content_type='str', thinking=None, reasoning_content=None, messages=[Message(role='system', content='<your_goal>\\n\\n</your_goal>\\n\\n<additional_information>\\n- Use markdown to format your answers.\\n- The current time is 2025-08-18 16:30:38.867312.\\n</additional_information>\\n\\n<expected_output>\\n\\n</expected_output>', name=None, tool_call_id=None, tool_calls=None, audio=None, images=None, videos=None, files=None, audio_output=None, image_output=None, thinking=None, redacted_thinking=None, provider_data=None, citations=None, reasoning_content=None, tool_name=None, tool_args=None, tool_call_error=None, stop_after_tool_call=False, add_to_agent_memory=True, from_history=False, metrics=MessageMetrics(input_tokens=0, output_tokens=0, total_tokens=0, audio_tokens=0, input_audio_tokens=0, output_audio_tokens=0, cached_tokens=0, cache_write_tokens=0, reasoning_tokens=0, prompt_tokens=0, completion_tokens=0, prompt_tokens_details=None, completion_tokens_details=None, additional_metrics=None, time=None, time_to_first_token=None, timer=None), references=None, created_at=1755559838), Message(role='user', content=\"What's your role?\", name=None, tool_call_id=None, tool_calls=None, audio=None, images=None, videos=None, files=None, audio_output=None, image_output=None, thinking=None, redacted_thinking=None, provider_data=None, citations=None, reasoning_content=None, tool_name=None, tool_args=None, tool_call_error=None, stop_after_tool_call=False, add_to_agent_memory=True, from_history=False, metrics=MessageMetrics(input_tokens=0, output_tokens=0, total_tokens=0, audio_tokens=0, input_audio_tokens=0, output_audio_tokens=0, cached_tokens=0, cache_write_tokens=0, reasoning_tokens=0, prompt_tokens=0, completion_tokens=0, prompt_tokens_details=None, completion_tokens_details=None, additional_metrics=None, time=None, time_to_first_token=None, timer=None), references=None, created_at=1755559838), Message(role='assistant', content='I am an AI assistant designed to help you with information, answer questions, provide explanations, and assist with a variety of tasks. My role is to support you by offering accurate, up-to-date, and helpful responses based on your needs. If you have a specific goal or task in mind, just let me know how I can assist!', name=None, tool_call_id=None, tool_calls=None, audio=None, images=None, videos=None, files=None, audio_output=None, image_output=None, thinking=None, redacted_thinking=None, provider_data=None, citations=None, reasoning_content=None, tool_name=None, tool_args=None, tool_call_error=None, stop_after_tool_call=False, add_to_agent_memory=True, from_history=False, metrics=MessageMetrics(input_tokens=281, output_tokens=69, total_tokens=350, audio_tokens=0, input_audio_tokens=0, output_audio_tokens=0, cached_tokens=0, cache_write_tokens=0, reasoning_tokens=0, prompt_tokens=281, completion_tokens=69, prompt_tokens_details={'audio_tokens': 0, 'cached_tokens': 0}, completion_tokens_details={'accepted_prediction_tokens': 0, 'audio_tokens': 0, 'reasoning_tokens': 0, 'rejected_prediction_tokens': 0}, additional_metrics=None, time=2.636291083996184, time_to_first_token=None, timer=<agno.utils.timer.Timer object at 0x115dd8bb0>), references=None, created_at=1755559838)], metrics={'input_tokens': [281], 'output_tokens': [69], 'total_tokens': [350], 'audio_tokens': [0], 'input_audio_tokens': [0], 'output_audio_tokens': [0], 'cached_tokens': [0], 'cache_write_tokens': [0], 'reasoning_tokens': [0], 'prompt_tokens': [281], 'completion_tokens': [69], 'prompt_tokens_details': [{'audio_tokens': 0, 'cached_tokens': 0}], 'completion_tokens_details': [{'accepted_prediction_tokens': 0, 'audio_tokens': 0, 'reasoning_tokens': 0, 'rejected_prediction_tokens': 0}], 'time': [2.636291083996184]}, model='gpt-4.1', model_provider='OpenAI', run_id='4d192543-b7fe-4ed4-9ef2-e660509df61b', agent_id='729c48f0-c165-4606-b6b6-ec3db1a790a0', agent_name='notebook-agent', session_id='e4de60b6-b207-465a-913c-cb71360397dc', team_session_id=None, workflow_id=None, tools=[], formatted_tool_calls=None, images=None, videos=None, audio=None, response_audio=None, citations=None, extra_data=None, created_at=1755559742, events=None, status=<RunStatus.running: 'RUNNING'>)\n",
      "RunResponse(content='You asked me: \"What\\'s your role?\"', content_type='str', thinking=None, reasoning_content=None, messages=[Message(role='system', content='<your_goal>\\n\\n</your_goal>\\n\\n<additional_information>\\n- Use markdown to format your answers.\\n- The current time is 2025-08-18 16:30:49.664718.\\n</additional_information>\\n\\n<expected_output>\\n\\n</expected_output>', name=None, tool_call_id=None, tool_calls=None, audio=None, images=None, videos=None, files=None, audio_output=None, image_output=None, thinking=None, redacted_thinking=None, provider_data=None, citations=None, reasoning_content=None, tool_name=None, tool_args=None, tool_call_error=None, stop_after_tool_call=False, add_to_agent_memory=True, from_history=False, metrics=MessageMetrics(input_tokens=0, output_tokens=0, total_tokens=0, audio_tokens=0, input_audio_tokens=0, output_audio_tokens=0, cached_tokens=0, cache_write_tokens=0, reasoning_tokens=0, prompt_tokens=0, completion_tokens=0, prompt_tokens_details=None, completion_tokens_details=None, additional_metrics=None, time=None, time_to_first_token=None, timer=None), references=None, created_at=1755559849), Message(role='user', content=\"What's your role?\", name=None, tool_call_id=None, tool_calls=None, audio=None, images=None, videos=None, files=None, audio_output=None, image_output=None, thinking=None, redacted_thinking=None, provider_data=None, citations=None, reasoning_content=None, tool_name=None, tool_args=None, tool_call_error=None, stop_after_tool_call=False, add_to_agent_memory=True, from_history=True, metrics=MessageMetrics(input_tokens=0, output_tokens=0, total_tokens=0, audio_tokens=0, input_audio_tokens=0, output_audio_tokens=0, cached_tokens=0, cache_write_tokens=0, reasoning_tokens=0, prompt_tokens=0, completion_tokens=0, prompt_tokens_details=None, completion_tokens_details=None, additional_metrics=None, time=None, time_to_first_token=None, timer=None), references=None, created_at=1755559838), Message(role='assistant', content='I am an AI assistant designed to help you with information, answer questions, provide explanations, and assist with a variety of tasks. My role is to support you by offering accurate, up-to-date, and helpful responses based on your needs. If you have a specific goal or task in mind, just let me know how I can assist!', name=None, tool_call_id=None, tool_calls=None, audio=None, images=None, videos=None, files=None, audio_output=None, image_output=None, thinking=None, redacted_thinking=None, provider_data=None, citations=None, reasoning_content=None, tool_name=None, tool_args=None, tool_call_error=None, stop_after_tool_call=False, add_to_agent_memory=True, from_history=True, metrics=MessageMetrics(input_tokens=281, output_tokens=69, total_tokens=350, audio_tokens=0, input_audio_tokens=0, output_audio_tokens=0, cached_tokens=0, cache_write_tokens=0, reasoning_tokens=0, prompt_tokens=281, completion_tokens=69, prompt_tokens_details={'audio_tokens': 0, 'cached_tokens': 0}, completion_tokens_details={'audio_tokens': 0, 'reasoning_tokens': 0, 'accepted_prediction_tokens': 0, 'rejected_prediction_tokens': 0}, additional_metrics=None, time=2.636291083996184, time_to_first_token=None, timer=None), references=None, created_at=1755559838), Message(role='user', content='What did I ask you?', name=None, tool_call_id=None, tool_calls=None, audio=None, images=None, videos=None, files=None, audio_output=None, image_output=None, thinking=None, redacted_thinking=None, provider_data=None, citations=None, reasoning_content=None, tool_name=None, tool_args=None, tool_call_error=None, stop_after_tool_call=False, add_to_agent_memory=True, from_history=False, metrics=MessageMetrics(input_tokens=0, output_tokens=0, total_tokens=0, audio_tokens=0, input_audio_tokens=0, output_audio_tokens=0, cached_tokens=0, cache_write_tokens=0, reasoning_tokens=0, prompt_tokens=0, completion_tokens=0, prompt_tokens_details=None, completion_tokens_details=None, additional_metrics=None, time=None, time_to_first_token=None, timer=None), references=None, created_at=1755559849), Message(role='assistant', content='You asked me: \"What\\'s your role?\"', name=None, tool_call_id=None, tool_calls=None, audio=None, images=None, videos=None, files=None, audio_output=None, image_output=None, thinking=None, redacted_thinking=None, provider_data=None, citations=None, reasoning_content=None, tool_name=None, tool_args=None, tool_call_error=None, stop_after_tool_call=False, add_to_agent_memory=True, from_history=False, metrics=MessageMetrics(input_tokens=363, output_tokens=10, total_tokens=373, audio_tokens=0, input_audio_tokens=0, output_audio_tokens=0, cached_tokens=0, cache_write_tokens=0, reasoning_tokens=0, prompt_tokens=363, completion_tokens=10, prompt_tokens_details={'audio_tokens': 0, 'cached_tokens': 0}, completion_tokens_details={'accepted_prediction_tokens': 0, 'audio_tokens': 0, 'reasoning_tokens': 0, 'rejected_prediction_tokens': 0}, additional_metrics=None, time=2.060947916994337, time_to_first_token=None, timer=<agno.utils.timer.Timer object at 0x115871950>), references=None, created_at=1755559849)], metrics={'input_tokens': [363], 'output_tokens': [10], 'total_tokens': [373], 'audio_tokens': [0], 'input_audio_tokens': [0], 'output_audio_tokens': [0], 'cached_tokens': [0], 'cache_write_tokens': [0], 'reasoning_tokens': [0], 'prompt_tokens': [363], 'completion_tokens': [10], 'prompt_tokens_details': [{'audio_tokens': 0, 'cached_tokens': 0}], 'completion_tokens_details': [{'accepted_prediction_tokens': 0, 'audio_tokens': 0, 'reasoning_tokens': 0, 'rejected_prediction_tokens': 0}], 'time': [2.060947916994337]}, model='gpt-4.1', model_provider='OpenAI', run_id='210f31ea-55dd-4c5c-8eaa-bb0904cb1f93', agent_id='729c48f0-c165-4606-b6b6-ec3db1a790a0', agent_name='notebook-agent', session_id='e4de60b6-b207-465a-913c-cb71360397dc', team_session_id=None, workflow_id=None, tools=[], formatted_tool_calls=None, images=None, videos=None, audio=None, response_audio=None, citations=None, extra_data=None, created_at=1755559742, events=None, status=<RunStatus.running: 'RUNNING'>)\n"
     ]
    }
   ],
   "source": [
    "from agno.agent import Agent\n",
    "from xpander_sdk import Backend\n",
    "from dotenv import load_dotenv\n",
    "load_dotenv()\n",
    "\n",
    "# Initialize Xpander Backend\n",
    "backend = Backend()\n",
    "\n",
    "# Create agent with backend configuration\n",
    "agno_agent = Agent(**backend.get_args())\n",
    "\n",
    "# Test stateful conversation\n",
    "print(agno_agent.run(message=\"What's your role?\"))\n",
    "print(agno_agent.run(message=\"What did I ask you?\"))"
   ]
  },
  {
   "cell_type": "markdown",
   "metadata": {},
   "source": [
    "## Session Management"
   ]
  },
  {
   "cell_type": "code",
   "execution_count": null,
   "metadata": {},
   "outputs": [],
   "source": [
    "# Different users with separate sessions\n",
    "agno_agent.run(\n",
    "    message=\"Tell me a 5 second short story about a robot.\",\n",
    "    user_id=\"tom\",\n",
    "    session_id=\"tom_session1\"\n",
    ")\n",
    "\n",
    "agno_agent.run(\n",
    "    message=\"Tell me a 5 second short story about a cat.\",\n",
    "    user_id=\"jerry\",\n",
    "    session_id=\"jerry_session1\"\n",
    ")\n",
    "\n",
    "# Test session recall\n",
    "agno_agent.run(\n",
    "    message=\"who am I, What did I ask you?\",\n",
    "    user_id=\"tom\",\n",
    "    session_id=\"tom_session1\"\n",
    ")"
   ]
  },
  {
   "cell_type": "markdown",
   "metadata": {},
   "source": [
    "## Custom Tools Integration"
   ]
  },
  {
   "cell_type": "code",
   "execution_count": null,
   "metadata": {},
   "outputs": [],
   "source": [
    "from xpander_sdk import register_tool\n",
    "\n",
    "\n",
    "@register_tool\n",
    "def weather_check(location: str) -> str:\n",
    "    \"\"\"Check weather for a location\"\"\"\n",
    "    return f\"Weather in {location}: Sunny, 38°C\"\n",
    "\n",
    "\n",
    "# Test the tool\n",
    "agno_agent.print_response(\n",
    "    message=\"What's the weather like in San Francisco?\",\n",
    "    user_id=\"weather_user\"\n",
    ")"
   ]
  },
  {
   "cell_type": "markdown",
   "metadata": {},
   "source": [
    "## Summary\n",
    "\n",
    "You've successfully added backend capabilities:\n",
    "\n",
    "✅ **Basic Agent**: Stateful conversation with `Backend()` + `Agent(**backend.get_args())`\n",
    "\n",
    "✅ **Session Management**: Multi-user support with `user_id` and `session_id`\n",
    "\n",
    "✅ **Custom Tools**: Function integration with `@register_tool`\n",
    "\n",
    "**Next Steps:**\n",
    "- Deploy with `xpander agent deploy <agent-name>`\n",
    "- Configure memory/prompts in [workbench](https://app.xpander.ai)\n",
    "- Add more custom tools and integrations"
   ]
  }
 ],
 "metadata": {
  "kernelspec": {
   "display_name": "Python 3",
   "language": "python",
   "name": "python3"
  },
  "language_info": {
   "codemirror_mode": {
    "name": "ipython",
    "version": 3
   },
   "file_extension": ".py",
   "mimetype": "text/x-python",
   "name": "python",
   "nbconvert_exporter": "python",
   "pygments_lexer": "ipython3",
   "version": "3.8.5"
  }
 },
 "nbformat": 4,
 "nbformat_minor": 4
}
