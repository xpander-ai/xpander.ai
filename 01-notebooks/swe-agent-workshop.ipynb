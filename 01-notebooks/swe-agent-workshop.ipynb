{
 "cells": [
  {
   "cell_type": "markdown",
   "metadata": {},
   "source": [
    "# SWE Agent Workshop: Build an Autonomous Developer\n",
    "\n",
    "## What You'll Build (35-40 minutes)\n",
    "\n",
    "A **fully autonomous software agent** that:\n",
    "- Automatically handles GitHub issues\n",
    "- Creates pull requests with complete solutions\n",
    "- Integrates with Slack for team collaboration\n",
    "- Runs background coding tasks using Claude Code\n",
    "- Accesses knowledge bases for expert-level responses\n",
    "\n",
    "---\n",
    "\n",
    "# Part 1: Initial Setup (8 minutes)\n",
    "\n",
    "## Goal: Create and test your SWE agent with Claude Code integration\n",
    "\n",
    "**Expected Output**: Working agent that can coordinate with Claude Code for development tasks\n",
    "\n",
    "### How to do it:\n",
    "\n",
    "1. **Go to template**: https://app.xpander.ai/templates/d5175e28-6608-484b-9d4f-69ce14e699b0\n",
    "2. **Login with GitHub** (watch video): https://assets.xpanderai.io/vidoes/workshops/august-2025/01-github-connect.mp4\n",
    "3. **Test your agent** with: *\"Ask Claude to write hello world in different languages\"*\n",
    "\n",
    "<div align=\"center\">\n",
    "<img src=\"images/first-prompt.png\" style=\"max-height: 600px; width: auto;\">\n",
    "</div>\n",
    "\n",
    "### Step completion check:\n",
    "-  Agent responds with code in multiple languages\n",
    "-  Function logs show your agent coordinating with Claude Code\n",
    "-  You understand the two modes: Inline (direct code) and Background (GitHub PRs)\n",
    "\n",
    "**Key insight**: Your agent can delegate unlimited development work to Claude Code. This is multi-agent collaboration that scales infinitely."
   ]
  },
  {
   "cell_type": "markdown",
   "metadata": {},
   "source": [
    "# Part 2: Local Configuration & Custom Capabilities (15 minutes)\n",
    "\n",
    "## Goal: Connect locally, add custom tools, and enable knowledge-based responses\n",
    "\n",
    "**Expected Output**: Agent with persistent memory, GitHub tools, and expert-level documentation access"
   ]
  },
  {
   "cell_type": "code",
   "execution_count": null,
   "metadata": {},
   "outputs": [],
   "source": [
    "# Install dependencies\n",
    "!pip install \"xpander-sdk[agno]\" openai requests pypdf pgvector -q\n",
    "!npm install -g xpander-cli"
   ]
  },
  {
   "cell_type": "code",
   "execution_count": null,
   "metadata": {},
   "outputs": [],
   "source": [
    "!xpander login\n",
    "\n",
    "# Get your agent details - copy the Agent ID and API Key from output\n",
    "!xpander agent get \"SWE Agent\""
   ]
  },
  {
   "cell_type": "code",
   "execution_count": null,
   "metadata": {},
   "outputs": [],
   "source": [
    "# Run the agent via CLI\n",
    "!xpander agent invoke \"SWE Agent\" \"Can you write bubble sort algorithm in Python?\""
   ]
  },
  {
   "cell_type": "markdown",
   "metadata": {},
   "source": [
    "## Interact with the agent using SDK"
   ]
  },
  {
   "cell_type": "code",
   "execution_count": null,
   "metadata": {},
   "outputs": [],
   "source": [
    "import os\n",
    "from dotenv import load_dotenv\n",
    "from xpander_sdk import Backend\n",
    "from agno.agent import Agent\n",
    "\n",
    "load_dotenv()\n",
    "\n",
    "# Update these with your values from above\n",
    "os.environ['XPANDER_AGENT_ID'] = 'your-agent-id-here'\n",
    "os.environ['XPANDER_API_KEY'] = 'your-api-key-here' \n",
    "\n",
    "backend = Backend()\n",
    "swe_agent = Agent(**backend.get_args())\n",
    "print(\"✅ SWE Agent initialized!\")"
   ]
  },
  {
   "cell_type": "code",
   "execution_count": null,
   "metadata": {},
   "outputs": [],
   "source": [
    "# Inspect available capabilities\n",
    "print(\"🔧 Available Tools:\")\n",
    "for tool in swe_agent.tools:\n",
    "    print(f\"   • {tool.__name__}\")\n",
    "    \n",
    "print(f\"\\n💾 Database: {swe_agent.storage.db_url}\")\n",
    "print(f\"📋 Instructions: {len(swe_agent.instructions)} rules loaded\")"
   ]
  },
  {
   "cell_type": "markdown",
   "metadata": {},
   "source": [
    "## Test Session Memory\n",
    "\n",
    "**Goal**: Verify persistent memory across interactions\n",
    "\n",
    "**Key differentiator**: PostgreSQL storage vs ChatGPT's forgetting conversations"
   ]
  },
  {
   "cell_type": "code",
   "execution_count": null,
   "metadata": {},
   "outputs": [],
   "source": [
    "# Test 1: Ask for code\n",
    "response = swe_agent.run(\"Write a Python function to validate email addresses\")\n",
    "print(\"Response preview:\", response.content[:200] + \"...\")\n",
    "print(\"Session ID:\", response.session_id)"
   ]
  },
  {
   "cell_type": "code",
   "execution_count": null,
   "metadata": {},
   "outputs": [],
   "source": [
    "# Test 2: Verify memory\n",
    "response = swe_agent.run(\"What did I just ask you to do?\")\n",
    "print(\"Memory test result:\", response.content[:150] + \"...\")"
   ]
  },
  {
   "cell_type": "code",
   "execution_count": null,
   "metadata": {},
   "outputs": [],
   "source": [
    "swe_agent.run(\"What did I ask you?\", session_id=\"new-session-id-123\")\n",
    "print(\"Memory test 2 result:\", response.content[:150] + \"...\")"
   ]
  },
  {
   "cell_type": "markdown",
   "metadata": {},
   "source": [
    "## Add Custom Tool - GitHub Operations\n",
    "\n",
    "**Goal**: Extend agent capabilities with GitHub API integration\n",
    "\n",
    "**Expected Output**: Agent can star repositories on command"
   ]
  },
  {
   "cell_type": "code",
   "execution_count": null,
   "metadata": {},
   "outputs": [],
   "source": [
    "from xpander_sdk import register_tool\n",
    "import requests\n",
    "\n",
    "os.environ['GITHUB_TOKEN'] = 'your-github-token-here' # get it from https://github.com/settings/tokens . Create \"Classic\" token\n",
    "\n",
    "@register_tool\n",
    "def star_github_repo(repo_full_name: str) -> dict:\n",
    "    \"\"\"Star a GitHub repository\n",
    "    \n",
    "    Args:\n",
    "        repo_full_name: Repository in format 'owner/repo'\n",
    "    \"\"\"\n",
    "    token = os.environ.get(\"GITHUB_TOKEN\")\n",
    "    if not token:\n",
    "        return {\"error\": \"No GitHub token configured\"}\n",
    "    \n",
    "    response = requests.put(\n",
    "        f\"https://api.github.com/user/starred/{repo_full_name}\",\n",
    "        headers={\"Authorization\": f\"token {token}\"}\n",
    "    )\n",
    "    return {\"success\": response.status_code == 204, \"repo\": repo_full_name}\n",
    "\n",
    "# Reload agent to pick up new tool\n",
    "swe_agent = Agent(**backend.get_args())\n",
    "print(\"✅ GitHub tool registered and agent reloaded\")"
   ]
  },
  {
   "cell_type": "code",
   "execution_count": null,
   "metadata": {},
   "outputs": [],
   "source": [
    "# Test the custom tool\n",
    "response = swe_agent.run(\"Please star the xpander-ai/xpander.ai repository\")\n",
    "print(\"Tool test result:\", response.content[:120] + \"...\")"
   ]
  },
  {
   "cell_type": "markdown",
   "metadata": {},
   "source": [
    "## Add Knowledge Base - Expert Documentation\n",
    "\n",
    "**Goal**: Give agent access to authoritative sources for expert-level responses\n",
    "\n",
    "**Expected Output**: Agent can answer questions using official documentation"
   ]
  },
  {
   "cell_type": "code",
   "execution_count": null,
   "metadata": {},
   "outputs": [],
   "source": [
    "import requests\n",
    "from agno.document.chunking.fixed import FixedSizeChunking\n",
    "from agno.knowledge.pdf import PDFKnowledgeBase\n",
    "from agno.vectordb.pgvector import PgVector\n",
    "\n",
    "def download_pdf(url, filename):\n",
    "    \"\"\"Download PDF from URL to local file\"\"\"\n",
    "    response = requests.get(url)\n",
    "    response.raise_for_status()\n",
    "    with open(filename, 'wb') as f:\n",
    "        f.write(response.content)\n",
    "    return filename\n",
    "\n",
    "# URLs to download - updated with correct paper\n",
    "pdf_urls = [\n",
    "    \"https://githubtraining.github.io/training-manual/legacy-manual.pdf\"\n",
    "]\n",
    "\n",
    "# Download PDFs and create PDFConfig list\n",
    "pdf_configs = []\n",
    "for i, url in enumerate(pdf_urls):\n",
    "    filename = f\"document_{i+1}.pdf\"\n",
    "    try:\n",
    "        pdf_path = download_pdf(url, filename)\n",
    "        pdf_configs.append({\"path\": pdf_path})\n",
    "        print(f\"Downloaded: {pdf_path}\")\n",
    "    except Exception as e:\n",
    "        print(f\"Failed to download {url}: {e}\")\n",
    "\n",
    "# Create knowledge base from all downloaded PDFs\n",
    "knowledge_base = PDFKnowledgeBase(\n",
    "    path=pdf_configs,  # List of PDFConfig dictionaries\n",
    "    vector_db=PgVector(\n",
    "        table_name=\"swe_documentation\",\n",
    "        db_url=swe_agent.storage.db_url,\n",
    "        auto_upgrade_schema=True,\n",
    "        schema=swe_agent.storage.schema\n",
    "    ),\n",
    "    chunking_strategy=FixedSizeChunking(chunk_size=1000)\n",
    ")\n",
    "\n",
    "# Load documents\n",
    "knowledge_base.load(recreate=False)\n",
    "\n",
    "# Enable knowledge base for the agent\n",
    "swe_agent.knowledge = knowledge_base\n",
    "swe_agent.search_knowledge = True\n",
    "\n",
    "print(f\"✅ Knowledge base loaded with {len(pdf_configs)} PDFs!\")"
   ]
  },
  {
   "cell_type": "code",
   "execution_count": null,
   "metadata": {},
   "outputs": [],
   "source": [
    "# Test knowledge-enhanced responses\n",
    "response = swe_agent.run(\"What's the official way to do git cherry-pick according to GitHub?\")\n",
    "print(\"Knowledge-based answer:\", response.content[:250] + \"...\")"
   ]
  },
  {
   "cell_type": "markdown",
   "metadata": {},
   "source": [
    "### Part 2 Completion Check:\n",
    "- Agent has persistent memory across sessions\n",
    "- Custom GitHub tool works correctly\n",
    "- Knowledge base provides authoritative answers\n",
    "- Multi-agent system coordinates Claude Code for complex tasks"
   ]
  },
  {
   "cell_type": "markdown",
   "metadata": {},
   "source": [
    "# Part 3: Slack Integration (8 minutes)\n",
    "\n",
    "## Goal: Connect agent to team workflows via Slack\n",
    "\n",
    "**Expected Output**: Agent responds to team requests in Slack channels\n",
    "\n",
    "### How to do it:\n",
    "\n",
    "1. **Watch setup video**: https://assets.xpanderai.io/vidoes/workshops/august-2025/02-slack.mp4\n",
    "2. **Join Xpander Community**: https://bit.ly/xpander-slack (use browser)\n",
    "3. **Create channel**: `swe-agent-tasks-yourname`\n",
    "4. **Configure Smart Engage**:\n",
    "   - Agent Settings → Smart Engage\n",
    "   - Enable Slack integration\n",
    "   - Connect workspace (tokens from https://api.slack.com/reference/manifests#config-tokens)\n",
    "   - Select your channel\n",
    "\n",
    "<div align=\"center\">\n",
    "<img src=\"images/slack-1.png\" style=\"max-height: 500px; width: auto;\">\n",
    "</div>\n",
    "\n",
    "\n",
    "1. **Test**: Send message asking coding related question. It should work without @ (hashtag) !\n",
    "\n",
    "<div align=\"center\">\n",
    "<img src=\"images/slack-result.png\" style=\"max-height: 500px; width: auto;\">\n",
    "</div>\n",
    "\n",
    "\n",
    "### Step completion check:\n",
    "-  Agent responds to Slack messages\n",
    "-  Team members can request development help\n",
    "-  Agent can execute background tasks from Slack requests\n",
    "\n",
    "**Key insight**: Your agent is now a collaborative team member that never sleeps and has unlimited development capacity."
   ]
  },
  {
   "cell_type": "markdown",
   "metadata": {},
   "source": [
    "# Part 4: GitHub Webhook Automation (12 minutes)\n",
    "\n",
    "## Goal: Complete autonomous pipeline for GitHub issue processing\n",
    "\n",
    "**Expected Output**: Agent automatically handles new GitHub issues end-to-end\n",
    "\n",
    "**Why webhook filtering matters**: GitHub sends webhooks on every issue event (opened, closed, commented, etc.). We only want \"opened\" issues, and we want to transform the raw JSON payload into AI-ready format instead of overwhelming the agent with unnecessary data.\n",
    "\n",
    "## Step 1: Create repo & Configure GitHub Webhook\n",
    "\n",
    "**Task**: Set up webhook to send issue events to your agent\n",
    "\n",
    "### How to do it:\n",
    "1. Create new repository in GitHub and commit something to it\n",
    "2. Go to `https://github.com/<your-org>/<your-repo>/settings/hooks`\n",
    "3. Add webhook with this URL: (You can also find it in the Agent Task Sources)\n",
    "```\n",
    "https://webhook.xpander.ai?agent_id=<your-agent-id>&x-api-key=<your-api-key>&asynchronous=true\n",
    "```\n",
    "\n",
    "<div align=\"center\">\n",
    "<img src=\"images/github-webhook.png\" style=\"max-height: 500px; width: auto;\">\n",
    "</div>\n",
    "\n",
    "3. Select \"Issues\" events only\n",
    "4. Verify in activity view that webhook events arrive\n",
    "\n",
    "<div align=\"center\">\n",
    "<img src=\"images/webhook-xpander.png\" style=\"max-height: 500px; width: auto;\">\n",
    "</div>\n"
   ]
  },
  {
   "cell_type": "markdown",
   "metadata": {},
   "source": [
    "## Step 2: Add GitHub Issues Tool\n",
    "\n",
    "**Task**: Enable agent to comment on and manage GitHub issues\n",
    "\n",
    "### How to do it:\n",
    "1. Xpander platform → **Connectors**\n",
    "2. Add **GitHub Issues** connector and authenticate\n",
    "3. **Add to your agent**\n",
    "\n",
    "<div align=\"center\">\n",
    "<img src=\"images/github-issues.png\" style=\"max-height: 500px; width: auto; margin-right: 20px;\">\n",
    "<img src=\"images/github-issues-2.png\" style=\"max-height: 500px; width: auto;\">\n",
    "</div>\n",
    "\n",
    "4. Click save and deploy. "
   ]
  },
  {
   "cell_type": "markdown",
   "metadata": {},
   "source": [
    "## Step 3: Configure Collaborative Instructions\n",
    "\n",
    "**Task**: Make agent communicate transparently during issue resolution\n",
    "\n",
    "### How to do it:\n",
    "Add this instruction to your agent:\n",
    "\n",
    "`When receiving an issue from GitHub, you must begin by replying to the issue with your plan. Do not start coding before commenting on the issue. Once you have commented, proceed to solve the issue by writing code and creating a pull request. Finally, comment on your workflow in the issue, even if you encountered problems.`\n",
    "\n",
    "**Save and Deploy**\n",
    "\n",
    "Test it. Create issue on github, or use the chat and ask the agent to comment on some github issue. "
   ]
  },
  {
   "cell_type": "markdown",
   "metadata": {},
   "source": [
    "## Step 4: Advanced Webhook Filtering (Bonus)\n",
    "\n",
    "**Goal**: Transform raw GitHub webhooks into AI-ready format\n",
    "\n",
    "**Expected Output**: Agent receives clean, filtered issue data instead of raw JSON\n",
    "\n",
    "### Why this matters:\n",
    "- GitHub sends webhooks for every issue action (opened, closed, edited, etc.)\n",
    "- Raw webhook payloads contain 100+ fields your agent doesn't need\n",
    "- We want to filter for \"opened\" issues only and extract just the essential data\n",
    "\n",
    "### How to do it:"
   ]
  },
  {
   "cell_type": "code",
   "execution_count": null,
   "metadata": {},
   "outputs": [],
   "source": [
    "# Download your agent's code for customization\n",
    "!xpander agent init \"SWE Agent\" --framework agno --folder ./swe-agent"
   ]
  },
  {
   "cell_type": "code",
   "execution_count": null,
   "metadata": {},
   "outputs": [],
   "source": [
    "# Check downloaded files\n",
    "!ls ./swe-agent/"
   ]
  },
  {
   "cell_type": "markdown",
   "metadata": {},
   "source": [
    "### Add webhook filtering to `xpander_handler.py`:\n",
    "\n",
    "**Add this function at the top:**"
   ]
  },
  {
   "cell_type": "code",
   "execution_count": null,
   "metadata": {},
   "outputs": [],
   "source": [
    "# This is the filtering function to add to xpander_handler.py\n",
    "webhook_filter_code = '''\n",
    "import json\n",
    "\n",
    "def process_github_event(event):\n",
    "    \"\"\"Filter GitHub webhooks to only process opened issues\n",
    "    \n",
    "    Returns AI-ready format: issue body + URL\n",
    "    Returns False for events we want to ignore\n",
    "    \"\"\"\n",
    "    if isinstance(event, str):\n",
    "        event = json.loads(event)\n",
    "    \n",
    "    # Only process newly opened issues\n",
    "    if event.get(\"action\") == \"opened\" and \"issue\" in event:\n",
    "        issue_body = event['issue'].get('body', 'No description')\n",
    "        issue_url = event['issue'].get('html_url')\n",
    "        return f\"{issue_body} | {issue_url}\"\n",
    "    \n",
    "    return False  # Ignore all other events\n",
    "'''\n",
    "\n",
    "print(\"Copy this code to the top of ./swe-agent/xpander_handler.py\")\n",
    "print(webhook_filter_code)"
   ]
  },
  {
   "cell_type": "markdown",
   "metadata": {},
   "source": [
    "**Add this filter logic in the main handler function:**"
   ]
  },
  {
   "cell_type": "code",
   "execution_count": null,
   "metadata": {},
   "outputs": [],
   "source": [
    "# This is the integration code to add in xpander_handler.py\n",
    "integration_code = '''\n",
    "# Add this after: agno_agent = Agent(**agno_args)\n",
    "\n",
    "# Filter GitHub webhook events\n",
    "github_payload = process_github_event(task.input.text)\n",
    "if github_payload is not False:\n",
    "    task.input.text = github_payload\n",
    "    print(f\"Processed GitHub issue: {github_payload[:100]}...\")\n",
    "elif \"issue\" in task.input.text.lower():\n",
    "    # If it looks like a GitHub event but we filtered it out\n",
    "    print(\"Ignored GitHub event (not a new issue)\")\n",
    "    return  # Don't process this event\n",
    "\n",
    "# Continue with: await agno_agent.arun(...)\n",
    "'''\n",
    "\n",
    "print(\"Add this code in xpander_handler.py before the agno_agent.arun call:\")\n",
    "print(integration_code)"
   ]
  },
  {
   "cell_type": "markdown",
   "metadata": {},
   "source": [
    "### Test locally:"
   ]
  },
  {
   "cell_type": "markdown",
   "metadata": {},
   "source": [
    "# Run this in terminal after editing xpander_handler.py:"
   ]
  },
  {
   "cell_type": "code",
   "execution_count": null,
   "metadata": {},
   "outputs": [],
   "source": [
    "!cd swe-agent && python3 -m venv .venv && source .venv/bin/activate && pip install -r requirements.txt\n"
   ]
  },
  {
   "cell_type": "code",
   "execution_count": null,
   "metadata": {},
   "outputs": [],
   "source": [
    "!cd swe-agent && xpander agent dev"
   ]
  },
  {
   "cell_type": "markdown",
   "metadata": {},
   "source": [
    "## While running, re-deliver a GitHub webhook to test filtering"
   ]
  },
  {
   "cell_type": "markdown",
   "metadata": {},
   "source": [
    "<div align=\"center\">\n",
    "<img src=\"images/github-retrigger.png\" style=\"max-height: 500px; width: auto;\">\n",
    "</div>"
   ]
  },
  {
   "cell_type": "markdown",
   "metadata": {},
   "source": [
    "Deploy to production: `xpander deploy` (Optional)"
   ]
  },
  {
   "cell_type": "code",
   "execution_count": null,
   "metadata": {},
   "outputs": [],
   "source": [
    "!cd swe-agent && xpander deploy --yes"
   ]
  },
  {
   "cell_type": "markdown",
   "metadata": {},
   "source": [
    "### Part 4 Completion Check:\n",
    "-  GitHub webhook configured for Issues events\n",
    "-  Agent can comment on GitHub issues\n",
    "-  Agent follows collaborative workflow (comment → code → PR → update)\n",
    "-  (Bonus) Webhook filtering processes only relevant events\n",
    "\n",
    "**Test the complete pipeline**: Create a GitHub issue and watch your autonomous development pipeline in action!"
   ]
  },
  {
   "cell_type": "markdown",
   "metadata": {},
   "source": [
    "# Workshop Complete! 🎉\n",
    "\n",
    "## What You've Built:\n",
    "✅ **Multi-agent system** with Claude Code integration  \n",
    "✅ **Custom tools** and persistent memory  \n",
    "✅ **Knowledge base** for expert responses  \n",
    "✅ **Slack collaboration** for team integration  \n",
    "✅ **GitHub automation** with intelligent webhook filtering  \n",
    "\n",
    "## Your Autonomous Development Pipeline:\n",
    "```\n",
    "GitHub Issue → Filtered Webhook → Agent Analysis → \n",
    "Issue Comment → Code Development → PR Creation → Team Notification\n",
    "```\n",
    "\n",
    "## Next Steps:\n",
    "- Scale across multiple repositories\n",
    "- Add specialized tools for your workflows  \n",
    "- Integrate with project management tools\n",
    "- Build domain-specific knowledge bases\n",
    "\n",
    "**You now have a 24/7 AI developer that can handle the complete software development lifecycle.**"
   ]
  }
 ],
 "metadata": {
  "kernelspec": {
   "display_name": "Python 3",
   "language": "python",
   "name": "python3"
  },
  "language_info": {
   "codemirror_mode": {
    "name": "ipython",
    "version": 3
   },
   "file_extension": ".py",
   "mimetype": "text/x-python",
   "name": "python",
   "nbconvert_exporter": "python",
   "pygments_lexer": "ipython3",
   "version": "3.8.5"
  }
 },
 "nbformat": 4,
 "nbformat_minor": 4
}
