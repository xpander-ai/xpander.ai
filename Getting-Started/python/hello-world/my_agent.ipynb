{
 "cells": [
  {
   "cell_type": "markdown",
   "id": "title",
   "metadata": {},
   "source": [
    "# Run xpander.ai Agent with Custom Handler\n",
    "\n",
    "This notebook demonstrates how to initialize, wrap, and interact with an xpander.ai agent using a custom Python handler (`MyAgent`).\n",
    "It includes loading credentials, listing tools, starting a chat, and printing message history."
   ]
  },
  {
   "cell_type": "code",
   "execution_count": 1,
   "id": "ed56ffe8",
   "metadata": {},
   "outputs": [
    {
     "ename": "ModuleNotFoundError",
     "evalue": "No module named 'tabulate'",
     "output_type": "error",
     "traceback": [
      "\u001b[31m---------------------------------------------------------------------------\u001b[39m",
      "\u001b[31mModuleNotFoundError\u001b[39m                       Traceback (most recent call last)",
      "\u001b[36mCell\u001b[39m\u001b[36m \u001b[39m\u001b[32mIn[1]\u001b[39m\u001b[32m, line 2\u001b[39m\n\u001b[32m      1\u001b[39m \u001b[38;5;28;01mimport\u001b[39;00m\u001b[38;5;250m \u001b[39m\u001b[34;01mjson\u001b[39;00m\n\u001b[32m----> \u001b[39m\u001b[32m2\u001b[39m \u001b[38;5;28;01mfrom\u001b[39;00m\u001b[38;5;250m \u001b[39m\u001b[34;01mtabulate\u001b[39;00m\u001b[38;5;250m \u001b[39m\u001b[38;5;28;01mimport\u001b[39;00m tabulate\n\u001b[32m      3\u001b[39m \u001b[38;5;28;01mfrom\u001b[39;00m\u001b[38;5;250m \u001b[39m\u001b[34;01mxpander_sdk\u001b[39;00m\u001b[38;5;250m \u001b[39m\u001b[38;5;28;01mimport\u001b[39;00m XpanderClient, Agent\n\u001b[32m      4\u001b[39m \u001b[38;5;28;01mfrom\u001b[39;00m\u001b[38;5;250m \u001b[39m\u001b[34;01mmy_agent\u001b[39;00m\u001b[38;5;250m \u001b[39m\u001b[38;5;28;01mimport\u001b[39;00m MyAgent\n",
      "\u001b[31mModuleNotFoundError\u001b[39m: No module named 'tabulate'"
     ]
    }
   ],
   "source": [
    "import json\n",
    "from tabulate import tabulate\n",
    "from xpander_sdk import XpanderClient, Agent\n",
    "from my_agent import MyAgent\n",
    "from dotenv import load_dotenv"
   ]
  },
  {
   "cell_type": "markdown",
   "id": "load-config",
   "metadata": {},
   "source": [
    "## Load Environment & Agent Config\n",
    "Loads credentials from `.env` and agent metadata from `xpander_config.json`."
   ]
  },
  {
   "cell_type": "code",
   "execution_count": null,
   "id": "271fd251",
   "metadata": {},
   "outputs": [],
   "source": [
    "load_dotenv()\n",
    "\n",
    "with open('xpander_config.json', 'r') as config_file:\n",
    "    xpander_config: dict = json.load(config_file)"
   ]
  },
  {
   "cell_type": "markdown",
   "id": "init-agent",
   "metadata": {},
   "source": [
    "## Initialize Agent Instance\n",
    "Connects to xpander.ai BaaS (Backend-as-a-service) and loads the agent specified in the config."
   ]
  },
  {
   "cell_type": "code",
   "execution_count": null,
   "id": "ab3c4cf0",
   "metadata": {},
   "outputs": [],
   "source": [
    "xpander_client = XpanderClient(api_key=xpander_config.get(\"api_key\"))\n",
    "xpander_agent: Agent = xpander_client.agents.get(agent_id=xpander_config.get(\"agent_id\"))"
   ]
  },
  {
   "cell_type": "code",
   "execution_count": null,
   "id": "d2bb96c3",
   "metadata": {},
   "outputs": [],
   "source": [
    "print(f\"Loaded Agent: {xpander_agent.name}\")"
   ]
  },
  {
   "cell_type": "markdown",
   "id": "list-tools",
   "metadata": {},
   "source": [
    "## List Agent Tools\n",
    "Displays all tools the agent can use, with descriptions and parameter details."
   ]
  },
  {
   "cell_type": "code",
   "execution_count": null,
   "id": "98786253",
   "metadata": {},
   "outputs": [],
   "source": [
    "tools = xpander_agent.get_tools()\n",
    "tools_table = []\n",
    "\n",
    "for tool in tools:\n",
    "    func = tool.get(\"function\", {})\n",
    "    name = func.get(\"name\", \"\")\n",
    "    description = func.get(\"description\", \"\").strip().replace(\"\\n\", \" \")[:200] + \"...\"\n",
    "    params = func.get(\"parameters\", {}).get(\"properties\", {})\n",
    "    formatted_params = json.dumps(params)\n",
    "    tools_table.append([name, description, formatted_params])\n",
    "\n",
    "print(\"Agent's attached tools:\")\n",
    "print(tabulate(tools_table, headers=[\"Name\", \"Description\", \"Params JSON\"], tablefmt=\"grid\"))"
   ]
  },
  {
   "cell_type": "markdown",
   "id": "wrap-agent",
   "metadata": {},
   "source": [
    "## Wrap Agent with Custom Handler\n",
    "Creates a custom agent interface (`MyAgent`) that controls how tasks are handled."
   ]
  },
  {
   "cell_type": "code",
   "execution_count": null,
   "id": "474c2e08",
   "metadata": {},
   "outputs": [],
   "source": [
    "agent = MyAgent(xpander_agent)"
   ]
  },
  {
   "cell_type": "markdown",
   "id": "send-first-message",
   "metadata": {},
   "source": [
    "## Start a Chat with the Agent\n",
    "Sends a first message (`Hi!`) and runs the custom handler loop."
   ]
  },
  {
   "cell_type": "code",
   "execution_count": null,
   "id": "8125abf1",
   "metadata": {},
   "outputs": [],
   "source": [
    "thread = await agent.chat(\"Hi!\")"
   ]
  },
  {
   "cell_type": "markdown",
   "id": "explain-execution-1",
   "metadata": {},
   "source": [
    "## View Execution Result (First Message)\n",
    "After sending the first message, we'll fetch the agent's execution result. This includes:\n",
    "- `status`: Current state of the task (`PENDING`, `EXECUTING`, `PAUSED`, `ERROR`, or `COMPLETED`)\n",
    "- `result`: The agent's final answer or error message"
   ]
  },
  {
   "cell_type": "code",
   "execution_count": null,
   "id": "result-1",
   "metadata": {},
   "outputs": [],
   "source": [
    "execution_result = xpander_agent.retrieve_execution_result()\n",
    "print(\"status: \", execution_result.status.value)\n",
    "print(\"result: \", execution_result.result)"
   ]
  },
  {
   "cell_type": "markdown",
   "id": "print-messages",
   "metadata": {},
   "source": [
    "## View Agent Message History\n",
    "Displays messages from the current conversation thread in a readable table."
   ]
  },
  {
   "cell_type": "code",
   "execution_count": null,
   "id": "08621eb7",
   "metadata": {},
   "outputs": [],
   "source": [
    "print(\"The agent's thread:\")\n",
    "messages = xpander_agent.messages\n",
    "\n",
    "table = []\n",
    "for msg in messages:\n",
    "    role = msg.get(\"role\", \"\")\n",
    "    content = msg.get(\"content\", \"\")\n",
    "    content_preview = content.strip().replace(\"\\n\", \" \")\n",
    "    content_preview = (content_preview[:100] + \"...\") if len(content_preview) > 100 else content_preview\n",
    "    tool_calls = msg.get(\"tool_calls\", \"\")\n",
    "    tool_calls_json = json.dumps(tool_calls) if tool_calls else \"\"\n",
    "    table.append([role, content_preview, tool_calls_json])\n",
    "\n",
    "print(tabulate(table, headers=[\"Role\", \"Content\", \"Tool Calls\"], tablefmt=\"grid\"))"
   ]
  },
  {
   "cell_type": "markdown",
   "id": "continue-thread",
   "metadata": {},
   "source": [
    "## Continue the Chat\n",
    "Sends a follow-up message in the same thread to preserve context."
   ]
  },
  {
   "cell_type": "code",
   "execution_count": null,
   "id": "b275c5e5",
   "metadata": {},
   "outputs": [],
   "source": [
    "await agent.chat(\"What can you do ?\", thread)"
   ]
  },
  {
   "cell_type": "markdown",
   "id": "explain-execution-2",
   "metadata": {},
   "source": [
    "## View Execution Result (Follow-Up)\n",
    "\n",
    "This displays the execution result after the second chat message.  \n",
    "Use it to verify if the agent completed the task or encountered an issue."
   ]
  },
  {
   "cell_type": "code",
   "execution_count": null,
   "id": "result-2",
   "metadata": {},
   "outputs": [],
   "source": [
    "execution_result = xpander_agent.retrieve_execution_result()\n",
    "print(\"status: \", execution_result.status.value)\n",
    "print(\"result: \", execution_result.result)"
   ]
  }
 ],
 "metadata": {
  "kernelspec": {
   "display_name": ".venv",
   "language": "python",
   "name": "python3"
  },
  "language_info": {
   "codemirror_mode": {
    "name": "ipython",
    "version": 3
   },
   "file_extension": ".py",
   "mimetype": "text/x-python",
   "name": "python",
   "nbconvert_exporter": "python",
   "pygments_lexer": "ipython3",
   "version": "3.13.3"
  }
 },
 "nbformat": 4,
 "nbformat_minor": 5
}
