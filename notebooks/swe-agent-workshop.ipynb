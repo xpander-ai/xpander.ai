{
 "cells": [
  {
   "cell_type": "markdown",
   "metadata": {},
   "source": [
    "# SWE Agent Workshop - Autonomous Coding Assistant\n",
    "\n",
    "## Workshop Flow\n",
    "\n",
    "1. **Setup Agent** - Use the SWE template & GitHub login\n",
    "2. **Configure in Notebook** - Add tools & knowledge base  \n",
    "3. **Background Tasks** - Use Claude Code for async operations\n",
    "4. **Connect Slack** - Enable team collaboration\n",
    "5. **Add Notion** - Automate task management\n",
    "\n",
    "---\n",
    "\n",
    "## Part 1: Initial Setup\n",
    "\n",
    "### Step 1: Create Your SWE Agent\n",
    "\n",
    "1. **Go to template**: https://app.xpander.ai/templates/8a0e7876-8a79-49f4-b6a4-dcdacfb5409b\n",
    "2. **Login with GitHub** (watch video): https://assets.xpanderai.io/vidoes/workshops/august-2025/01-github-connect.mp4\n",
    "3. **Test your agent** in the tester tab with a simple prompt\n",
    "4. **Copy your credentials** from the dashboard for use below\n",
    "\n",
    "**Important**: Your agent comes with Claude Code tool pre-configured for background tasks!"
   ]
  },
  {
   "cell_type": "markdown",
   "metadata": {},
   "source": [
    "## Part 2: Notebook Configuration\n",
    "\n",
    "Now we'll configure your agent locally and add custom capabilities."
   ]
  },
  {
   "cell_type": "code",
   "execution_count": 14,
   "metadata": {},
   "outputs": [
    {
     "name": "stdout",
     "output_type": "stream",
     "text": [
      "\u001b[1G\u001b[0K⠙\u001b[1G\u001b[0K⠹\u001b[1G\u001b[0K⠸\u001b[1G\u001b[0K⠼\u001b[1G\u001b[0K⠴\u001b[1G\u001b[0K⠦\u001b[1G\u001b[0K⠧\u001b[1G\u001b[0K⠇\u001b[1G\u001b[0K\n",
      "changed 189 packages in 836ms\n",
      "\u001b[1G\u001b[0K⠇\u001b[1G\u001b[0K\n",
      "\u001b[1G\u001b[0K⠇\u001b[1G\u001b[0K54 packages are looking for funding\n",
      "\u001b[1G\u001b[0K⠇\u001b[1G\u001b[0K  run `npm fund` for details\n",
      "\u001b[1G\u001b[0K⠇\u001b[1G\u001b[0K"
     ]
    }
   ],
   "source": [
    "# Install dependencies\n",
    "!pip install \"xpander-sdk[agno]\" openai requests pypdf pgvector -q\n",
    "!npm install -g xpander-cli"
   ]
  },
  {
   "cell_type": "code",
   "execution_count": null,
   "metadata": {},
   "outputs": [],
   "source": [
    "# Authenticate with Xpander CLI (optional - for advanced features)\n",
    "!xpander login"
   ]
  },
  {
   "cell_type": "code",
   "execution_count": 16,
   "metadata": {},
   "outputs": [],
   "source": [
    "import os\n",
    "from dotenv import load_dotenv\n",
    "\n",
    "# Load from .env file if exists\n",
    "load_dotenv()\n",
    "\n",
    "# Use credentials from your agent created in Step 1\n",
    "os.environ['XPANDER_ORG_ID'] = os.getenv(\n",
    "    'XPANDER_ORG_ID', 'your-org-id')  # From dashboard\n",
    "os.environ['XPANDER_AGENT_ID'] = os.getenv(\n",
    "    'XPANDER_AGENT_ID', 'your-agent-id')  # From dashboard\n",
    "os.environ['XPANDER_API_KEY'] = os.getenv(\n",
    "    'XPANDER_API_KEY', 'your-api-key')  # From dashboard\n",
    "os.environ['GITHUB_TOKEN'] = os.getenv(\n",
    "    'GITHUB_TOKEN', 'ghp_xxx')  # Your GitHub personal access token"
   ]
  },
  {
   "cell_type": "markdown",
   "metadata": {},
   "source": [
    "### Initialize Your SWE Agent"
   ]
  },
  {
   "cell_type": "code",
   "execution_count": 17,
   "metadata": {},
   "outputs": [
    {
     "name": "stdout",
     "output_type": "stream",
     "text": [
      "✅ SWE Agent initialized!\n"
     ]
    }
   ],
   "source": [
    "from xpander_sdk import Backend\n",
    "from agno.agent import Agent\n",
    "\n",
    "backend = Backend()\n",
    "swe_agent = Agent(**backend.get_args())\n",
    "print(\"✅ SWE Agent initialized!\")"
   ]
  },
  {
   "cell_type": "markdown",
   "metadata": {},
   "source": [
    "### Test Multi-Turn Conversations & Session Management\n",
    "\n",
    "Your agent maintains context across interactions with persistent session management."
   ]
  },
  {
   "cell_type": "code",
   "execution_count": 18,
   "metadata": {},
   "outputs": [
    {
     "name": "stdout",
     "output_type": "stream",
     "text": [
      "I can assist with a wide range of software engineering tasks, including but not limited to:\n",
      "\n",
      "1. **Code Development and Review**: Writing, reviewing, and optimizing code in various programming languages.\n",
      "\n",
      "2. **Version Control Management**: Handling tasks related to Git, such as creating branches, managing pull requests, and reviewing code changes.\n",
      "\n",
      "3. **Automated Testing**: Setting up and managing unit tests, integration tests, and other automated testing frameworks.\n",
      "\n",
      "4. **Continuous Integration/Continuous Deployment (CI/CD)**: Assisting with the setup and maintenance of CI/CD pipelines to automate the software delivery process.\n",
      "\n",
      "5. **Documentation**: Creating and maintaining technical documentation, including API documentation, user guides, and code comments.\n",
      "\n",
      "6. **Code Refactoring**: Improving the structure and readability of existing code without changing its functionality.\n",
      "\n",
      "7. **Bug Fixing and Debugging**: Identifying, diagnosing, and fixing bugs in software applications.\n",
      "\n",
      "8. **Performance Optimization**: Analyzing and improving the performance of software applications.\n",
      "\n",
      "9. **Research and Analysis**: Conducting research on new technologies, tools, and best practices in software development.\n",
      "\n",
      "10. **Project Management**: Assisting with task prioritization, resource allocation, and timeline management for software projects.\n",
      "\n",
      "If you have a specific task in mind, feel free to let me know, and I can provide more detailed assistance!\n"
     ]
    }
   ],
   "source": [
    "# First interaction\n",
    "response1 = swe_agent.run(\n",
    "    \"What kind of software engineering tasks can you help with?\")\n",
    "print(response1.content)"
   ]
  },
  {
   "cell_type": "code",
   "execution_count": 19,
   "metadata": {},
   "outputs": [
    {
     "name": "stdout",
     "output_type": "stream",
     "text": [
      "To validate email addresses in Python, you can use regular expressions (regex) to define the pattern that a valid email address should match. Here's a Python function that performs this validation:\n",
      "\n",
      "```python\n",
      "import re\n",
      "\n",
      "def is_valid_email(email):\n",
      "    \"\"\"\n",
      "    Validate an email address using a regular expression.\n",
      "\n",
      "    Args:\n",
      "        email (str): The email address to validate.\n",
      "\n",
      "    Returns:\n",
      "        bool: True if the email address is valid, False otherwise.\n",
      "    \"\"\"\n",
      "    # Define the regex pattern for a valid email address\n",
      "    email_pattern = r'^[a-zA-Z0-9._%+-]+@[a-zA-Z0-9.-]+\\.[a-zA-Z]{2,}$'\n",
      "    \n",
      "    # Use the re.match function to check if the email matches the pattern\n",
      "    if re.match(email_pattern, email):\n",
      "        return True\n",
      "    else:\n",
      "        return False\n",
      "\n",
      "# Example usage\n",
      "email = \"example@example.com\"\n",
      "if is_valid_email(email):\n",
      "    print(f\"{email} is a valid email address.\")\n",
      "else:\n",
      "    print(f\"{email} is not a valid email address.\")\n",
      "```\n",
      "\n",
      "### Explanation:\n",
      "- **Regex Pattern**: The pattern `^[a-zA-Z0-9._%+-]+@[a-zA-Z0-9.-]+\\.[a-zA-Z]{2,}$` is used to match a typical email address format.\n",
      "  - `^[a-zA-Z0-9._%+-]+`: Matches the local part of the email (before the `@` symbol), allowing letters, numbers, and certain special characters.\n",
      "  - `@[a-zA-Z0-9.-]+`: Matches the domain part of the email (after the `@` symbol), allowing letters, numbers, dots, and hyphens.\n",
      "  - `\\.[a-zA-Z]{2,}$`: Ensures the domain ends with a dot followed by at least two letters (e.g., `.com`, `.org`).\n",
      "\n",
      "This function will return `True` if the email address is valid according to the pattern, and `False` otherwise. You can adjust the regex pattern if you have specific requirements for what constitutes a valid email address in your context.\n"
     ]
    }
   ],
   "source": [
    "# Second interaction - it remembers the context\n",
    "response2 = swe_agent.run(\n",
    "    \"Write a Python function to validate email addresses\")\n",
    "print(response2.content)"
   ]
  },
  {
   "cell_type": "code",
   "execution_count": 20,
   "metadata": {},
   "outputs": [
    {
     "name": "stdout",
     "output_type": "stream",
     "text": [
      "You asked me to write a Python function to validate email addresses.\n"
     ]
    }
   ],
   "source": [
    "# Third interaction - verify session persistence\n",
    "response3 = swe_agent.run(\"What did I just ask you to do?\")\n",
    "print(response3.content)"
   ]
  },
  {
   "cell_type": "markdown",
   "metadata": {},
   "source": [
    "### Add Custom Tool - GitHub Star\n",
    "\n",
    "Let's add a local function to star GitHub repositories."
   ]
  },
  {
   "cell_type": "code",
   "execution_count": 21,
   "metadata": {},
   "outputs": [
    {
     "name": "stdout",
     "output_type": "stream",
     "text": [
      "✅ GitHub tool registered!\n"
     ]
    }
   ],
   "source": [
    "from xpander_sdk import register_tool\n",
    "import requests\n",
    "\n",
    "\n",
    "@register_tool\n",
    "def star_github_repo(repo_full_name: str) -> dict:\n",
    "    \"\"\"Star a GitHub repository\n",
    "\n",
    "    Args:\n",
    "        repo_full_name: Repository in format 'owner/repo'\n",
    "    \"\"\"\n",
    "    token = os.environ.get(\"GITHUB_TOKEN\")\n",
    "    if not token:\n",
    "        return {\"error\": \"No GitHub token configured\"}\n",
    "\n",
    "    response = requests.put(\n",
    "        f\"https://api.github.com/user/starred/{repo_full_name}\",\n",
    "        headers={\"Authorization\": f\"token {token}\"}\n",
    "    )\n",
    "    return {\"success\": response.status_code == 204, \"repo\": repo_full_name}\n",
    "\n",
    "\n",
    "print(\"✅ GitHub tool registered!\")"
   ]
  },
  {
   "cell_type": "code",
   "execution_count": 22,
   "metadata": {},
   "outputs": [
    {
     "name": "stdout",
     "output_type": "stream",
     "text": [
      "Agent reloaded with new tool\n"
     ]
    }
   ],
   "source": [
    "# Reload agent to pick up new tool\n",
    "swe_agent = Agent(**backend.get_args())\n",
    "print(\"Agent reloaded with new tool\")"
   ]
  },
  {
   "cell_type": "code",
   "execution_count": 23,
   "metadata": {},
   "outputs": [
    {
     "name": "stdout",
     "output_type": "stream",
     "text": [
      "The repository `xpander-ai/xpander.ai` has been successfully starred. If you have any other requests or need further assistance, feel free to let me know!\n"
     ]
    }
   ],
   "source": [
    "# Test the tool\n",
    "response = swe_agent.run(\"Please star the xpander-ai/xpander.ai repository\")\n",
    "print(response.content)"
   ]
  },
  {
   "cell_type": "markdown",
   "metadata": {},
   "source": [
    "### Add Knowledge Base - Git Documentation\n",
    "\n",
    "Load Git best practices documentation for context-aware responses."
   ]
  },
  {
   "cell_type": "code",
   "execution_count": 24,
   "metadata": {},
   "outputs": [
    {
     "data": {
      "text/html": [
       "<pre style=\"white-space:pre;overflow-x:auto;line-height:normal;font-family:Menlo,'DejaVu Sans Mono',consolas,'Courier New',monospace\"><span style=\"color: #000080; text-decoration-color: #000080\">INFO</span> Embedder not provided, using OpenAIEmbedder as default.                                                       \n",
       "</pre>\n"
      ],
      "text/plain": [
       "\u001b[34mINFO\u001b[0m Embedder not provided, using OpenAIEmbedder as default.                                                       \n"
      ]
     },
     "metadata": {},
     "output_type": "display_data"
    },
    {
     "data": {
      "text/html": [
       "<pre style=\"white-space:pre;overflow-x:auto;line-height:normal;font-family:Menlo,'DejaVu Sans Mono',consolas,'Courier New',monospace\"><span style=\"color: #000080; text-decoration-color: #000080\">INFO</span> Loading knowledge base                                                                                        \n",
       "</pre>\n"
      ],
      "text/plain": [
       "\u001b[34mINFO\u001b[0m Loading knowledge base                                                                                        \n"
      ]
     },
     "metadata": {},
     "output_type": "display_data"
    },
    {
     "data": {
      "text/html": [
       "<pre style=\"white-space:pre;overflow-x:auto;line-height:normal;font-family:Menlo,'DejaVu Sans Mono',consolas,'Courier New',monospace\"><span style=\"color: #000080; text-decoration-color: #000080\">INFO</span> Reading: <span style=\"color: #0000ff; text-decoration-color: #0000ff; text-decoration: underline\">https://githubtraining.github.io/training-manual/book.pdf</span>                                            \n",
       "</pre>\n"
      ],
      "text/plain": [
       "\u001b[34mINFO\u001b[0m Reading: \u001b[4;94mhttps://githubtraining.github.io/training-manual/book.pdf\u001b[0m                                            \n"
      ]
     },
     "metadata": {},
     "output_type": "display_data"
    },
    {
     "data": {
      "text/html": [
       "<pre style=\"white-space:pre;overflow-x:auto;line-height:normal;font-family:Menlo,'DejaVu Sans Mono',consolas,'Courier New',monospace\"><span style=\"color: #000080; text-decoration-color: #000080\">INFO</span> Skipped <span style=\"color: #008080; text-decoration-color: #008080; font-weight: bold\">97</span> existing/duplicate documents.                                                                      \n",
       "</pre>\n"
      ],
      "text/plain": [
       "\u001b[34mINFO\u001b[0m Skipped \u001b[1;36m97\u001b[0m existing/duplicate documents.                                                                      \n"
      ]
     },
     "metadata": {},
     "output_type": "display_data"
    },
    {
     "data": {
      "text/html": [
       "<pre style=\"white-space:pre;overflow-x:auto;line-height:normal;font-family:Menlo,'DejaVu Sans Mono',consolas,'Courier New',monospace\"><span style=\"color: #000080; text-decoration-color: #000080\">INFO</span> Added <span style=\"color: #008080; text-decoration-color: #008080; font-weight: bold\">0</span> documents to knowledge base                                                                           \n",
       "</pre>\n"
      ],
      "text/plain": [
       "\u001b[34mINFO\u001b[0m Added \u001b[1;36m0\u001b[0m documents to knowledge base                                                                           \n"
      ]
     },
     "metadata": {},
     "output_type": "display_data"
    },
    {
     "name": "stdout",
     "output_type": "stream",
     "text": [
      "✅ Knowledge base loaded with Git documentation!\n"
     ]
    }
   ],
   "source": [
    "from agno.document.chunking.fixed import FixedSizeChunking\n",
    "from agno.knowledge.pdf_url import PDFUrlKnowledgeBase\n",
    "from agno.vectordb.pgvector import PgVector\n",
    "\n",
    "# Create knowledge base from GitHub documentation\n",
    "knowledge_base = PDFUrlKnowledgeBase(\n",
    "    urls=[\"https://githubtraining.github.io/training-manual/book.pdf\"],\n",
    "    vector_db=PgVector(\n",
    "        table_name=\"swe_documentation\",\n",
    "        db_url=swe_agent.storage.db_url,\n",
    "        auto_upgrade_schema=True,\n",
    "        schema=swe_agent.storage.schema\n",
    "    ),\n",
    "    chunking_strategy=FixedSizeChunking(chunk_size=1000)\n",
    ")\n",
    "\n",
    "# Load documents\n",
    "knowledge_base.load(recreate=False)\n",
    "\n",
    "# Enable knowledge base for the agent\n",
    "swe_agent.knowledge = knowledge_base\n",
    "swe_agent.search_knowledge = True\n",
    "\n",
    "print(\"✅ Knowledge base loaded with Git documentation!\")"
   ]
  },
  {
   "cell_type": "code",
   "execution_count": 25,
   "metadata": {},
   "outputs": [
    {
     "name": "stdout",
     "output_type": "stream",
     "text": [
      "Creating custom Git aliases can significantly streamline your workflow by allowing you to execute complex or frequently used commands with simple shortcuts. Here's a step-by-step guide to creating custom Git aliases:\n",
      "\n",
      "### Step 1: Open Git Configuration\n",
      "You can add aliases to your Git configuration file. This can be done globally or locally:\n",
      "\n",
      "- **Globally**: This will apply the alias to all repositories on your system.\n",
      "  ```bash\n",
      "  git config --global --edit\n",
      "  ```\n",
      "\n",
      "- **Locally**: This will apply the alias only to the current repository.\n",
      "  ```bash\n",
      "  git config --edit\n",
      "  ```\n",
      "\n",
      "### Step 2: Add Aliases\n",
      "In the configuration file, you can add aliases under the `[alias]` section. Here are some examples:\n",
      "\n",
      "- **Shorten Common Commands**:\n",
      "  ```ini\n",
      "  [alias]\n",
      "    co = checkout\n",
      "    br = branch\n",
      "    ci = commit\n",
      "    st = status\n",
      "  ```\n",
      "\n",
      "- **Custom Commands**:\n",
      "  ```ini\n",
      "  [alias]\n",
      "    lg = log --oneline --graph --decorate\n",
      "    amend = commit --amend --no-edit\n",
      "    unstage = reset HEAD --\n",
      "  ```\n",
      "\n",
      "### Step 3: Save and Exit\n",
      "After adding your desired aliases, save the file and exit the editor.\n",
      "\n",
      "### Step 4: Use Your Aliases\n",
      "You can now use your aliases in the terminal. For example:\n",
      "- `git co` will execute `git checkout`.\n",
      "- `git lg` will show a graphical log of commits.\n",
      "\n",
      "### Additional Tips\n",
      "- **Complex Aliases**: For more complex commands, you can use shell commands within your alias. For example:\n",
      "  ```ini\n",
      "  [alias]\n",
      "    cleanup = \"!f() { git branch --merged | grep -v '\\\\*' | xargs -n 1 git branch -d; }; f\"\n",
      "  ```\n",
      "\n",
      "- **Check Existing Aliases**: To see all your current aliases, run:\n",
      "  ```bash\n",
      "  git config --get-regexp alias\n",
      "  ```\n",
      "\n",
      "By setting up these aliases, you can enhance your productivity and make your Git workflow more efficient. If you have specific commands you frequently use, consider creating aliases for them to save time.\n"
     ]
    }
   ],
   "source": [
    "# Test knowledge-enhanced response\n",
    "response = swe_agent.run(\"How do I create custom Git aliases for my workflow?\")\n",
    "print(response.content)"
   ]
  },
  {
   "cell_type": "markdown",
   "metadata": {},
   "source": [
    "## Part 3: Background Tasks with Claude Code\n",
    "\n",
    "Your agent has Claude Code tool pre-configured for running long background tasks. Let's use it to create a PR for the apps-by-agents repository.\n",
    "\n",
    "### First, check the repository requirements"
   ]
  },
  {
   "cell_type": "code",
   "execution_count": null,
   "metadata": {},
   "outputs": [],
   "source": [
    "# Check what the repository accepts\n",
    "response = swe_agent.run(\"\"\"\n",
    "Check the xpander-ai/apps-by-agents repository on GitHub and tell me:\n",
    "1. What kind of apps are they accepting?\n",
    "2. What are the requirements for a PR?\n",
    "3. What structure should the app follow?\n",
    "\"\"\")\n",
    "print(response.content)"
   ]
  },
  {
   "cell_type": "markdown",
   "metadata": {},
   "source": [
    "### Schedule Background Task - Create PR\n",
    "\n",
    "Now let's task the agent to create a PR with a generated app. Since this uses Claude Code, it will run in the background."
   ]
  },
  {
   "cell_type": "code",
   "execution_count": 29,
   "metadata": {},
   "outputs": [],
   "source": [
    "prompt = \"\"\"\n",
    "Create a PR to xpander-ai/apps-by-agents repository with a new app. \n",
    "\n",
    "Choose one (Or be creative)    \n",
    "1. **Code Review Assistant** - Streamlit app that reviews code snippets for best practices\n",
    "2. **Git Commit Message Generator** - Web app that generates conventional commit messages from diffs\n",
    "3. **API Documentation Generator** - Tool that generates OpenAPI specs from code\n",
    "4. **SQL Query Builder** - Visual query builder for developers\n",
    "5. **Regex Helper** - Interactive regex tester and explainer\n",
    "\n",
    "Use Claude Code to handle this as a background task. Don't wait for completion.\n",
    "\"\"\""
   ]
  },
  {
   "cell_type": "code",
   "execution_count": 30,
   "metadata": {},
   "outputs": [],
   "source": [
    "# For example\n",
    "prompt = \"\"\"\n",
    "Create a PR to xpander-ai/apps-by-agents repository with a new app. \n",
    "    \n",
    "**Code Review Assistant** - Streamlit app that reviews code snippets for best practices\n",
    "\n",
    "Use Claude Code to handle this as a background task. Don't wait for completion.\n",
    "\"\"\""
   ]
  },
  {
   "cell_type": "code",
   "execution_count": 31,
   "metadata": {},
   "outputs": [
    {
     "data": {
      "text/plain": [
       "RunResponse(content='The task to create a new Streamlit app named **Code Review Assistant** and submit a pull request to the `xpander-ai/apps-by-agents` repository has been initiated. The task is currently queued for execution.\\n\\nI will monitor the progress and notify you once the task is completed. If you have any other requests or need further assistance, feel free to let me know!', content_type='str', thinking=None, reasoning_content=None, messages=[Message(role='system', content=\"I am the Software Engineering (SWE) Agent, a specialized AI designed to manage and execute coding-related tasks within an organizational..."
]
     },
     "execution_count": 31,
     "metadata": {},
     "output_type": "execute_result"
    }
   ],
   "source": [
    "swe_agent.run(prompt)"
   ]
  },
  {
   "cell_type": "code",
   "execution_count": 33,
   "metadata": {},
   "outputs": [
    {
     "name": "stdout",
     "output_type": "stream",
     "text": [
      "The pull request for the **Code Review Assistant** Streamlit app has been successfully created and submitted to the `xpander-ai/apps-by-agents` repository. Here are the details:\n",
      "\n",
      "### Key Features Implemented:\n",
      "- **Multi-language Support**: Supports Python and JavaScript with auto-detection.\n",
      "- **Best Practice Analysis**: Analyzes naming, structure, and security best practices.\n",
      "- **Interactive Web UI**: Provides real-time feedback through a user-friendly interface.\n",
      "- **Security Vulnerability Detection**: Identifies issues like SQL injection, hardcoded secrets, and unsafe `eval` usage.\n",
      "- **Detailed Issue Reporting**: Offers line numbers and suggestions for improvements.\n",
      "\n",
      "### Files Created:\n",
      "- `app.py`: The main Streamlit application with code analysis capabilities.\n",
      "- `requirements.txt`: Lists the dependencies required (only Streamlit is needed).\n",
      "- `README.md`: Provides comprehensive documentation with usage examples.\n",
      "\n",
      "### Pull Request:\n",
      "- [View Pull Request #107](https://github.com/xpander-ai/apps-by-agents/pull/107)\n",
      "\n",
      "The app is ready for review and can be run locally using the command `streamlit run app.py` after installing the necessary requirements. If you need further assistance or have any questions, feel free to ask!\n"
     ]
    }
   ],
   "source": [
    "# Check if the background task is done\n",
    "status = swe_agent.run(\"Did you finish creating the PR?\")\n",
    "print(status.content)"
   ]
  },
  {
   "cell_type": "markdown",
   "metadata": {},
   "source": [
    "## Part 4: Connect to Slack\n",
    "\n",
    "### Build Slack Agent with Zero Infrastructure\n",
    "\n",
    "1. **Watch setup video**: https://assets.xpanderai.io/vidoes/workshops/august-2025/02-slack.mp4\n",
    "\n",
    "2. **Create a Slack channel**: `swe-agent-tasks-[yourname]`\n",
    "\n",
    "3. **Configure Smart Engage**:\n",
    "   - Go to your agent settings\n",
    "   - Enable Slack integration\n",
    "   - Connect to your workspace\n",
    "   - Select your channel\n",
    "\n",
    "4. **Test it**: \n",
    "   - Watch demo: https://assets.xpanderai.io/vidoes/workshops/august-2025/summarize-pr.mp4\n",
    "   - Send a message in Slack asking to summarize a PR\n",
    "   - Your agent will respond!\n",
    "\n",
    "Your SWE agent now monitors Slack and can execute tasks (including background tasks) from messages!"
   ]
  },
  {
   "cell_type": "markdown",
   "metadata": {},
   "source": [
    "## Part 5: Add Notion Task Management\n",
    "\n",
    "### Make Your Agent Fully Autonomous\n",
    "\n",
    "Create an automated pipeline: **Notion → Slack → Agent → Solution**\n",
    "1. **Watch setup video**: https://assets.xpanderai.io/Users/david/Desktop/august-workshop/04-notion-template.mp4\n",
    "2. **Copy Notion template**: https://xpander.notion.site/swe-agent-tasks-template\n",
    "\n",
    "3. **Add Notion automation**:\n",
    "   - Trigger: When new issue added to Notion\n",
    "   - Action: Post task to your Slack channel\n",
    "   - Result: Agent sees message and starts developing!\n",
    "\n",
    "### The Complete Flow:\n",
    "1. Create issue in Notion with description\n",
    "2. Notion automatically posts to Slack channel\n",
    "3. Your SWE agent monitors the channel\n",
    "4. Agent picks up task and starts coding (using Claude Code for long tasks)\n",
    "5. Solution delivered back to Slack!\n",
    "\n",
    "**Congratulations! You now have a fully autonomous development pipeline!** 🚀"
   ]
  },
  {
   "cell_type": "markdown",
   "metadata": {},
   "source": [
    "## Summary\n",
    "\n",
    "### What You've Built:\n",
    "✅ **SWE Agent** with Claude Code tool for background tasks  \n",
    "✅ **Custom tools** like GitHub star functionality  \n",
    "✅ **Knowledge base** with Git best practices  \n",
    "✅ **Background task execution** - PR creation without blocking  \n",
    "✅ **Slack integration** for team collaboration  \n",
    "✅ **Notion automation** for task management  \n",
    "\n",
    "### Key Features Demonstrated:\n",
    "- **Async Operations**: Claude Code handles long-running tasks in background\n",
    "- **Session Management**: Agent remembers context across interactions\n",
    "- **Tool Registration**: Add custom capabilities to your agent\n",
    "- **Knowledge RAG**: Context-aware responses from documentation\n",
    "- **Zero Infrastructure**: Slack/Notion integration without servers\n",
    "\n",
    "**Workshop Complete!** 🎉"
   ]
  }
 ],
 "metadata": {
  "kernelspec": {
   "display_name": "Python 3",
   "language": "python",
   "name": "python3"
  },
  "language_info": {
   "codemirror_mode": {
    "name": "ipython",
    "version": 3
   },
   "file_extension": ".py",
   "mimetype": "text/x-python",
   "name": "python",
   "nbconvert_exporter": "python",
   "pygments_lexer": "ipython3",
   "version": "3.8.0"
  }
 },
 "nbformat": 4,
 "nbformat_minor": 4
}
